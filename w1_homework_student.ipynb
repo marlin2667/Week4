{
  "nbformat": 4,
  "nbformat_minor": 0,
  "metadata": {
    "colab": {
      "provenance": [],
      "collapsed_sections": [
        "ah1rfDA94kRf",
        "msnvDhpxX6n1"
      ],
      "history_visible": true,
      "include_colab_link": true
    },
    "kernelspec": {
      "name": "python3",
      "display_name": "Python 3"
    },
    "language_info": {
      "name": "python"
    }
  },
  "cells": [
    {
      "cell_type": "markdown",
      "metadata": {
        "id": "view-in-github",
        "colab_type": "text"
      },
      "source": [
        "<a href=\"https://colab.research.google.com/github/marlin2667/Week4/blob/main/w1_homework_student.ipynb\" target=\"_parent\"><img src=\"https://colab.research.google.com/assets/colab-badge.svg\" alt=\"Open In Colab\"/></a>"
      ]
    },
    {
      "cell_type": "markdown",
      "source": [
        "#AAI3001-Week1 Homework\n",
        "\n",
        "**Submit this github notebook with all outputs you get to dropbox [W1-assignments](https://xsite.singaporetech.edu.sg/d2l/lms/dropbox/admin/mark/folder_submissions_users.d2l?db=66115&ou=144676) by 12 Sep**\n",
        "##Task 1 - numpy practice:\n",
        "Objective: get warm with numpy\n",
        "\n",
        "\n",
        "##Task 2 - hyperplanes\n",
        "Objective: Understanding the geometry of hyperplanes -  what neurons in\n",
        "a neural network can do\n",
        "\n",
        "##Task 3 - a case study on simple linear regression (has explained in Lecture 1)\n",
        "Objective: be able to load data, write MSE, gradients and etc.\n",
        "\n"
      ],
      "metadata": {
        "id": "vZtLoX_jroFw"
      }
    },
    {
      "cell_type": "markdown",
      "source": [
        "##Task 1 numpy practice:\n",
        "\n",
        "### Part 1: Indexing and Searching\n",
        "\n",
        "\n"
      ],
      "metadata": {
        "id": "47GjIsimxPCH"
      }
    },
    {
      "cell_type": "code",
      "execution_count": 2,
      "metadata": {
        "colab": {
          "base_uri": "https://localhost:8080/"
        },
        "id": "2C8eGRnIriul",
        "outputId": "1de75149-c17c-431b-c556-9259adc088c9"
      },
      "outputs": [
        {
          "output_type": "stream",
          "name": "stdout",
          "text": [
            "index1 result:\n",
            " [12 13 14 15]\n"
          ]
        }
      ],
      "source": [
        "import numpy as np\n",
        "\n",
        "# Creating a 4x4 matrix\n",
        "a = np.arange(16).reshape((4, 4))\n",
        "\n",
        "# Return row indexed with 3\n",
        "def index1(mat):\n",
        "    return a[3]\n",
        "\n",
        "# Test the function\n",
        "print(\"index1 result:\\n\", index1(a))\n"
      ]
    },
    {
      "cell_type": "code",
      "source": [
        "# Return column indexed with 2\n",
        "def index2(mat):\n",
        "    return a[:,2]\n",
        "\n",
        "# Test the function\n",
        "print(\"index2 result:\\n\", index2(a))"
      ],
      "metadata": {
        "colab": {
          "base_uri": "https://localhost:8080/"
        },
        "id": "jv-PfxuR2a3Y",
        "outputId": "7a6ffd47-c72e-4ab1-b704-f06161d975d4"
      },
      "execution_count": 3,
      "outputs": [
        {
          "output_type": "stream",
          "name": "stdout",
          "text": [
            "index2 result:\n",
            " [ 2  6 10 14]\n"
          ]
        }
      ]
    },
    {
      "cell_type": "code",
      "source": [
        "# Return the columns indexed with 1 and 3\n",
        "def index3(mat):\n",
        "    return a[:,[1,3]]\n",
        "\n",
        "# Test the function\n",
        "print(\"index3 result:\\n\", index3(a))"
      ],
      "metadata": {
        "colab": {
          "base_uri": "https://localhost:8080/"
        },
        "id": "bzsRuehW2xxd",
        "outputId": "9b05c3e3-d8df-48a6-b93d-b26fd6ed04b8"
      },
      "execution_count": 9,
      "outputs": [
        {
          "output_type": "stream",
          "name": "stdout",
          "text": [
            "index3 result:\n",
            " [[ 1  3]\n",
            " [ 5  7]\n",
            " [ 9 11]\n",
            " [13 15]]\n"
          ]
        }
      ]
    },
    {
      "cell_type": "code",
      "source": [
        "# Return the rows indexed with 0 to 2\n",
        "def index4(mat):\n",
        "    return a[0:3,:]\n",
        "\n",
        "# Test the function\n",
        "print(\"index4 result:\\n\", index4(a))"
      ],
      "metadata": {
        "colab": {
          "base_uri": "https://localhost:8080/"
        },
        "id": "KluwLbsP20Kh",
        "outputId": "b6bdfb06-6ade-4749-87c7-b41631be9633"
      },
      "execution_count": 10,
      "outputs": [
        {
          "output_type": "stream",
          "name": "stdout",
          "text": [
            "index4 result:\n",
            " [[ 0  1  2  3]\n",
            " [ 4  5  6  7]\n",
            " [ 8  9 10 11]]\n"
          ]
        }
      ]
    },
    {
      "cell_type": "code",
      "source": [
        "# Return true where mat-values are higher than 5\n",
        "def index5(mat):\n",
        "    return a>5\n",
        "\n",
        "# Test the function\n",
        "print(\"index5 result:\\n\", index5(a))"
      ],
      "metadata": {
        "colab": {
          "base_uri": "https://localhost:8080/"
        },
        "id": "c3v7mY5z22N8",
        "outputId": "a423b18f-eb95-436e-d0b8-393ee4242163"
      },
      "execution_count": 17,
      "outputs": [
        {
          "output_type": "stream",
          "name": "stdout",
          "text": [
            "index5 result:\n",
            " [[False False False False]\n",
            " [False False  True  True]\n",
            " [ True  True  True  True]\n",
            " [ True  True  True  True]]\n"
          ]
        }
      ]
    },
    {
      "cell_type": "markdown",
      "source": [
        "##Task 1 numpy practice:\n",
        "\n",
        "### Part 2: Element-Wise Operations"
      ],
      "metadata": {
        "id": "9Eo-uZoG2_aD"
      }
    },
    {
      "cell_type": "code",
      "source": [
        "# Creating a 3x3 matrix\n",
        "a = np.arange(9).reshape((3, 3)) + 1\n",
        "\n",
        "# Return the sum over all elements\n",
        "def op1(mat):\n",
        "    return np.sum(mat)\n",
        "\n",
        "# Test the function\n",
        "print(\"op1 result:\\n\", op1(a))"
      ],
      "metadata": {
        "colab": {
          "base_uri": "https://localhost:8080/"
        },
        "id": "3TTwhUUN3DHC",
        "outputId": "50a90fd9-82df-45b8-a986-122229bf05d1"
      },
      "execution_count": 21,
      "outputs": [
        {
          "output_type": "stream",
          "name": "stdout",
          "text": [
            "op1 result:\n",
            " 45\n"
          ]
        }
      ]
    },
    {
      "cell_type": "code",
      "source": [
        "# Creating a 3x3x4 matrix\n",
        "a = np.arange(36).reshape((3, 3, 4))\n",
        "\n",
        "# Return the sum over the axis #1, indexing starts at 0\n",
        "def op2(mat):\n",
        "    return None\n",
        "\n",
        "# Test the function\n",
        "print(\"op2 result:\\n\", op2(a))"
      ],
      "metadata": {
        "colab": {
          "base_uri": "https://localhost:8080/"
        },
        "id": "ZQF2bpMu3GV9",
        "outputId": "a73bcd9d-0116-4d8d-b6fd-f12663176328"
      },
      "execution_count": 22,
      "outputs": [
        {
          "output_type": "stream",
          "name": "stdout",
          "text": [
            "op2 result:\n",
            " None\n"
          ]
        }
      ]
    },
    {
      "cell_type": "code",
      "source": [
        "a = np.arange(6).reshape((2, 3))\n",
        "\n",
        "# Return a scaled version so that it sums up to 1\n",
        "def op3(mat):\n",
        "\n",
        "    return (mat-np.min(mat))/(np.max(mat)-np.min(mat))/np.sum((mat-np.min(mat))/(np.max(mat)-np.min(mat)))\n",
        "\n",
        "# Test the function\n",
        "print(\"op3 result:\\n\", op3(a))"
      ],
      "metadata": {
        "colab": {
          "base_uri": "https://localhost:8080/"
        },
        "id": "k1ug3Th63GZa",
        "outputId": "9c465739-4f01-409a-f5b4-f1509da76122"
      },
      "execution_count": 33,
      "outputs": [
        {
          "output_type": "stream",
          "name": "stdout",
          "text": [
            "op3 result:\n",
            " [[0.         0.06666667 0.13333333]\n",
            " [0.2        0.26666667 0.33333333]]\n"
          ]
        }
      ]
    },
    {
      "cell_type": "code",
      "source": [
        "# Square each entry element-wise\n",
        "def op4(mat):\n",
        "    return mat**2\n",
        "\n",
        "# Test the function\n",
        "print(\"op4 result:\\n\", op4(a))"
      ],
      "metadata": {
        "colab": {
          "base_uri": "https://localhost:8080/"
        },
        "id": "Dch5ZdNy3KBi",
        "outputId": "ff49454c-134e-49f9-aac5-76eb50e3b722"
      },
      "execution_count": 27,
      "outputs": [
        {
          "output_type": "stream",
          "name": "stdout",
          "text": [
            "op4 result:\n",
            " [[ 0  1  4]\n",
            " [ 9 16 25]]\n"
          ]
        }
      ]
    },
    {
      "cell_type": "code",
      "source": [
        "# Creating two 2x2 matrices\n",
        "a = np.arange(4).reshape((2, 2))\n",
        "b = np.arange(4).reshape((2, 2)) - 5\n",
        "\n",
        "# Multiply both element-wise\n",
        "def op5(mat1, mat2):\n",
        "    return mat1*mat2\n",
        "\n",
        "# Test the function\n",
        "print(\"op5 result:\\n\", op5(a, b))"
      ],
      "metadata": {
        "colab": {
          "base_uri": "https://localhost:8080/"
        },
        "id": "K7mkmXMJ3MNc",
        "outputId": "3cd2173e-c816-4641-c939-91165f3a9c75"
      },
      "execution_count": 34,
      "outputs": [
        {
          "output_type": "stream",
          "name": "stdout",
          "text": [
            "op5 result:\n",
            " [[ 0 -4]\n",
            " [-6 -6]]\n"
          ]
        }
      ]
    },
    {
      "cell_type": "markdown",
      "source": [
        "##Task 1 numpy practice:\n",
        "\n",
        "###Part 3: Inner Products and Similar Operations"
      ],
      "metadata": {
        "id": "GFSYE-Um3PZG"
      }
    },
    {
      "cell_type": "code",
      "source": [
        "# Creating a 3x2 matrix and a vector of size 2\n",
        "a = np.arange(6).reshape((3, 2))\n",
        "b = np.arange(2) - 5\n",
        "\n",
        "# Compute the inner product between v and each vector in mat1\n",
        "def op5(mat1, v):\n",
        "    return np.inner(a,b)\n",
        "\n",
        "# Test the function\n",
        "print(\"op5 result:\\n\", op5(a, b))"
      ],
      "metadata": {
        "colab": {
          "base_uri": "https://localhost:8080/"
        },
        "id": "odfRdNHg3VXa",
        "outputId": "f933b718-cb38-408a-a2bb-77ef4a574105"
      },
      "execution_count": 36,
      "outputs": [
        {
          "output_type": "stream",
          "name": "stdout",
          "text": [
            "op5 result:\n",
            " [ -4 -22 -40]\n"
          ]
        }
      ]
    },
    {
      "cell_type": "code",
      "source": [
        "# Creating a 4x3 matrix and a vector of size 3\n",
        "a = np.arange(12).reshape((4, 3))\n",
        "b = np.arange(3) - 5\n",
        "\n",
        "# Compute the inner product between v and each vector in mat1\n",
        "def op6(mat1, v):\n",
        "    return np.inner(mat1,v)\n",
        "\n",
        "# Test the function\n",
        "print(\"op6 result:\\n\", op6(a, b))"
      ],
      "metadata": {
        "colab": {
          "base_uri": "https://localhost:8080/"
        },
        "id": "4LfPbaAe3Yfa",
        "outputId": "43dc6b64-729a-46c0-965f-682e4ed40b2d"
      },
      "execution_count": 37,
      "outputs": [
        {
          "output_type": "stream",
          "name": "stdout",
          "text": [
            "op6 result:\n",
            " [ -10  -46  -82 -118]\n"
          ]
        }
      ]
    },
    {
      "cell_type": "code",
      "source": [
        "# Creating a 3x3 matrix and a vector of size 3\n",
        "a = np.arange(9).reshape((3, 3))\n",
        "b = np.arange(3) - 5\n",
        "\n",
        "# Matrix multiply v from the left to mat1\n",
        "def op7(mat1, v):\n",
        "    return np.matmul(v,mat1)\n",
        "\n",
        "# Test the function\n",
        "print(\"op7 result:\\n\", op7(a, b))"
      ],
      "metadata": {
        "colab": {
          "base_uri": "https://localhost:8080/"
        },
        "id": "j5KP7Q8P3auh",
        "outputId": "bd676b34-b209-42b3-9ece-ced76c28a916"
      },
      "execution_count": 38,
      "outputs": [
        {
          "output_type": "stream",
          "name": "stdout",
          "text": [
            "op7 result:\n",
            " [-30 -42 -54]\n"
          ]
        }
      ]
    },
    {
      "cell_type": "code",
      "source": [
        "# Creating a 4x3x3x2 matrix and a vector of size 3\n",
        "a = np.arange(72).reshape((4, 3, 3, 2))\n",
        "b = np.arange(3) - 5\n",
        "\n",
        "# Compute the inner product between v and each vector in mat1\n",
        "def op8(mat1, v):\n",
        "    return np.tensordot(mat1, v, axes=([2],[0]))\n",
        "\n",
        "# Test the function\n",
        "print(\"op8 result:\\n\", op8(a, b))"
      ],
      "metadata": {
        "colab": {
          "base_uri": "https://localhost:8080/"
        },
        "id": "gSGVJA5I3c90",
        "outputId": "aa09540d-419f-4b19-b018-8bf93d58aa4d"
      },
      "execution_count": 41,
      "outputs": [
        {
          "output_type": "stream",
          "name": "stdout",
          "text": [
            "op8 result:\n",
            " [[[ -20  -32]\n",
            "  [ -92 -104]\n",
            "  [-164 -176]]\n",
            "\n",
            " [[-236 -248]\n",
            "  [-308 -320]\n",
            "  [-380 -392]]\n",
            "\n",
            " [[-452 -464]\n",
            "  [-524 -536]\n",
            "  [-596 -608]]\n",
            "\n",
            " [[-668 -680]\n",
            "  [-740 -752]\n",
            "  [-812 -824]]]\n"
          ]
        }
      ]
    },
    {
      "cell_type": "markdown",
      "source": [
        "##Task 2 - hyperplanes -  see lecture 1 slides 35-36\n",
        "write code to plot the hyperplanes and adjujst norm weight and bias:\n",
        "\n",
        "## New Section\n",
        "```\n",
        "1) in 2dims: -2x+3y=5\n",
        "2) change bias b to any value\n",
        "3) change norm vector w  to any value\n",
        "4) lot 1) 2) 3) in one figure using different colors\n",
        "```\n",
        "\n"
      ],
      "metadata": {
        "id": "EpWLO3bn_ewu"
      }
    },
    {
      "cell_type": "code",
      "source": [
        "import numpy as np\n",
        "import matplotlib.pyplot as plt\n",
        "\n",
        "def plot_hyperplane(normal_vector, bias, color, label):\n",
        "    # Create a range of x values\n",
        "    x = np.linspace(-10, 10, 400)\n",
        "    # Calculate the corresponding y values\n",
        "    y = (bias - normal_vector[0] * x) / normal_vector[1]\n",
        "    # Plot the hyperplane\n",
        "    plt.plot(x, y, color=color, label=label)\n",
        "\n",
        "# Original hyperplane: -2x + 3y = 5\n",
        "normal_vector1 = np.array([-2, 3])\n",
        "bias1 = 5\n",
        "\n",
        "# Hyperplane with changed bias\n",
        "bias2 = -15\n",
        "\n",
        "# Hyperplane with changed normal vector\n",
        "normal_vector3 = np.array([1, 3])\n",
        "bias3 = 5\n",
        "\n",
        "# Plotting\n",
        "plt.figure(figsize=(10, 6))\n",
        "\n",
        "# Plot original hyperplane\n",
        "plot_hyperplane(normal_vector1, bias1, 'red', 'Original: -2x + 3y = 5')\n",
        "\n",
        "# Plot hyperplane with changed bias\n",
        "plot_hyperplane(normal_vector1, bias2, 'blue', 'Changed bias: -2x + 3y = 10')\n",
        "\n",
        "# Plot hyperplane with changed normal vector\n",
        "plot_hyperplane(normal_vector3, bias3, 'green', 'Changed normal vector: x +3 y = 5')\n",
        "\n",
        "# Set plot limits\n",
        "plt.xlim(-10, 10)\n",
        "plt.ylim(-10, 10)\n",
        "\n",
        "# Add labels and legend\n",
        "plt.xlabel('x')\n",
        "plt.ylabel('y')\n",
        "plt.axhline(0, color='black',linewidth=0.5)\n",
        "plt.axvline(0, color='black',linewidth=0.5)\n",
        "plt.grid(color = 'gray', linestyle = '--', linewidth = 0.5)\n",
        "plt.legend()\n",
        "plt.title('Hyperplane Plot in 2D')\n",
        "\n",
        "# Show plot\n",
        "plt.show()"
      ],
      "metadata": {
        "id": "nbBDB2Lf2xhu",
        "outputId": "7a51e3d8-b445-4c5e-9dd3-4cfea1988e94",
        "colab": {
          "base_uri": "https://localhost:8080/",
          "height": 564
        }
      },
      "execution_count": 69,
      "outputs": [
        {
          "output_type": "display_data",
          "data": {
            "text/plain": [
              "<Figure size 1000x600 with 1 Axes>"
            ],
            "image/png": "[encoded data removed]"
          },
          "metadata": {}
        }
      ]
    },
    {
      "cell_type": "markdown",
      "source": [
        "##Task 3 - a case study on simple linear regression (see lecture 1 - slides 24 -33)\n"
      ],
      "metadata": {
        "id": "m369AwfT326I"
      }
    },
    {
      "cell_type": "code",
      "source": [
        "!gdown 1EE9N_7UaA17ftttf7UaNSzh_BayrgSIY"
      ],
      "metadata": {
        "colab": {
          "base_uri": "https://localhost:8080/"
        },
        "id": "ciNji_kc5X_y",
        "outputId": "3d4f0916-00be-4ad5-98cd-67f46ff2706a"
      },
      "execution_count": 75,
      "outputs": [
        {
          "output_type": "stream",
          "name": "stdout",
          "text": [
            "Downloading...\n",
            "From: https://drive.google.com/uc?id=1EE9N_7UaA17ftttf7UaNSzh_BayrgSIY\n",
            "To: /content/data.csv\n",
            "\r  0% 0.00/3.78k [00:00<?, ?B/s]\r100% 3.78k/3.78k [00:00<00:00, 13.5MB/s]\n"
          ]
        }
      ]
    },
    {
      "cell_type": "markdown",
      "source": [
        "#### Import the data\n",
        "\n",
        "the a dataset has two columns:\n",
        "\n",
        "```\n",
        "column 1: the amount of hours studied\n",
        "column 2: the test scores students achieved\n",
        "\n",
        " ```\n",
        "\n",
        "\n"
      ],
      "metadata": {
        "id": "ah1rfDA94kRf"
      }
    },
    {
      "cell_type": "code",
      "source": [
        "import matplotlib.pyplot as plt\n",
        "points = np.genfromtxt('data.csv', delimiter=',')\n",
        "\n",
        "#Extract columns\n",
        "# TODO: x =\n",
        "# TODO: y =\n",
        "x = np.array(points[:,0])\n",
        "y = np.array(points[:,1])\n",
        "\n",
        "#Plot the dataset\n",
        "plt.scatter(x,y)\n",
        "plt.xlabel('Hours of study')\n",
        "plt.ylabel('Test scores')\n",
        "plt.title('Dataset')\n",
        "plt.show()"
      ],
      "metadata": {
        "colab": {
          "base_uri": "https://localhost:8080/",
          "height": 472
        },
        "id": "sqjOmK1T4lX0",
        "outputId": "664c262f-4737-4ac9-f514-1861c831a01f"
      },
      "execution_count": 77,
      "outputs": [
        {
          "output_type": "display_data",
          "data": {
            "text/plain": [
              "<Figure size 640x480 with 1 Axes>"
            ],
            "image/png": "[encoded data removed]"
          },
          "metadata": {}
        }
      ]
    },
    {
      "cell_type": "markdown",
      "source": [
        "#### Set hyperparameters\n"
      ],
      "metadata": {
        "id": "msnvDhpxX6n1"
      }
    },
    {
      "cell_type": "code",
      "source": [
        "learning_rate = 0.0001\n",
        "initial_b = 0\n",
        "initial_w = 0\n",
        "num_iterations = 10"
      ],
      "metadata": {
        "id": "tDzV-1au5haX"
      },
      "execution_count": 78,
      "outputs": []
    },
    {
      "cell_type": "markdown",
      "source": [
        "#### Define loss function"
      ],
      "metadata": {
        "id": "aK2AlfCC5nis"
      }
    },
    {
      "cell_type": "code",
      "source": [
        "def compute_loss(b, w, points):\n",
        "    total_loss = 0\n",
        "    N = float(len(points))\n",
        "\n",
        "    #Compute sum of squared errors\n",
        "    for i in range(0, len(points)):\n",
        "        x = points[i, 0]\n",
        "        y = points[i, 1]\n",
        "        # TODO: MSE loss over all samples\n",
        "        predicted = b + w * x\n",
        "        squared_error = (predicted - y) ** 2\n",
        "        total_loss += squared_error\n",
        "\n",
        "    #Return average of squared error\n",
        "    return total_loss/N"
      ],
      "metadata": {
        "id": "NqkZL4kt5oJV"
      },
      "execution_count": 80,
      "outputs": []
    },
    {
      "cell_type": "markdown",
      "source": [
        "#### Define Gradient Descent functions"
      ],
      "metadata": {
        "id": "FBAmfRbG5q6G"
      }
    },
    {
      "cell_type": "code",
      "source": [
        "def gradient_descent_runner(points, starting_b, starting_w, learning_rate, num_iterations):\n",
        "    b = starting_b\n",
        "    w = starting_w\n",
        "    LogisticTransform_graph = []\n",
        "    loss_graph = []\n",
        "\n",
        "    #For every iteration, optimize b, w and compute its loss\n",
        "    for i in range(num_iterations):\n",
        "        loss_graph.append(compute_loss(b, w, points))\n",
        "        b, w = step_gradient(b, w, points, learning_rate)\n",
        "\n",
        "    return [b, w, loss_graph]\n",
        "\n",
        "def step_gradient(b_current, w_current, points, learning_rate):\n",
        "    w_gradient = 0\n",
        "    b_gradient = 0\n",
        "    w_updated = 0\n",
        "    N = float(len(points))\n",
        "\n",
        "    #Calculate Gradient\n",
        "    for i in range(0, len(points)):\n",
        "        x = points[i, 0]\n",
        "        y = points[i, 1]\n",
        "        # TODO: w_gradient over all samples\n",
        "        y_pred = w_current * x + b_current\n",
        "       # error = y- y_pred\n",
        "        w_gradient +=  -2 * x * (y- y_pred)\n",
        "        # TODO: b_gradient over all samples\n",
        "        b_gradient +=  -2 * (y- y_pred)\n",
        "   # Average the gradients over the number of points\n",
        "    w_gradient /= N\n",
        "    b_gradient /= N\n",
        "    #Update current m and b\n",
        "    w_updated = w_current - learning_rate * w_gradient\n",
        "    b_updated = b_current - learning_rate * b_gradient\n",
        "\n",
        "    #Return updated parameters\n",
        "    return b_updated, w_updated\n",
        "\n",
        "\n",
        "\n"
      ],
      "metadata": {
        "id": "FSRZW0085vs3"
      },
      "execution_count": 99,
      "outputs": []
    },
    {
      "cell_type": "markdown",
      "source": [
        "#### Run gradient_descent_runner() to get optimized parameters b and m"
      ],
      "metadata": {
        "id": "fhZBDZzh5wRL"
      }
    },
    {
      "cell_type": "code",
      "source": [
        "b, w, loss_graph = gradient_descent_runner(points, initial_b, initial_w, learning_rate, num_iterations)\n",
        "\n",
        "#Print optimized parameters\n",
        "print ('Optimized b:', b)\n",
        "print ('Optimized w:', w)\n",
        "\n",
        "#Print error with optimized parameters\n",
        "print ('Minimized loss:', compute_loss(b, w, points))"
      ],
      "metadata": {
        "colab": {
          "base_uri": "https://localhost:8080/"
        },
        "id": "yrYyuZte5yNr",
        "outputId": "fc3c8520-fa72-4abf-8d88-dba697264759"
      },
      "execution_count": 100,
      "outputs": [
        {
          "output_type": "stream",
          "name": "stdout",
          "text": [
            "Optimized b: 0.02963934787473238\n",
            "Optimized w: 1.4774173755483797\n",
            "Minimized loss: 112.65585181499746\n"
          ]
        }
      ]
    },
    {
      "cell_type": "markdown",
      "source": [
        "#### Plotting the loss per iterations"
      ],
      "metadata": {
        "id": "kon_uUOGaUMz"
      }
    },
    {
      "cell_type": "code",
      "source": [
        "plt.plot(loss_graph)\n",
        "plt.xlabel('No. of iterations')\n",
        "plt.ylabel('Loss')\n",
        "plt.title('Loss per iteration')\n",
        "plt.show()"
      ],
      "metadata": {
        "colab": {
          "base_uri": "https://localhost:8080/",
          "height": 472
        },
        "id": "1HuynjmO53VT",
        "outputId": "5e8a7c66-87e8-4dc6-a752-867d6cdcbb0d"
      },
      "execution_count": 101,
      "outputs": [
        {
          "output_type": "display_data",
          "data": {
            "text/plain": [
              "<Figure size 640x480 with 1 Axes>"
            ],
            "image/png": "[encoded data removed]"
          },
          "metadata": {}
        }
      ]
    },
    {
      "cell_type": "markdown",
      "source": [
        "#### Plot line of best fit"
      ],
      "metadata": {
        "id": "s0WoQuZK7Whw"
      }
    },
    {
      "cell_type": "code",
      "source": [
        "#Plot dataset\n",
        "plt.scatter(x, y)\n",
        "#Predict y values\n",
        "pred = w * x + b\n",
        "#Plot predictions as line of best fit\n",
        "plt.plot(x, pred, c='r')\n",
        "plt.xlabel('Hours of study')\n",
        "plt.ylabel('Test scores')\n",
        "plt.title('Line of best fit')\n",
        "plt.show()"
      ],
      "metadata": {
        "colab": {
          "base_uri": "https://localhost:8080/",
          "height": 472
        },
        "id": "sl5_WtcK7aaB",
        "outputId": "88cd607c-7cba-4d6e-b95b-b1c771039246"
      },
      "execution_count": 102,
      "outputs": [
        {
          "output_type": "display_data",
          "data": {
            "text/plain": [
              "<Figure size 640x480 with 1 Axes>"
            ],
            "image/png": "[encoded data removed]"
          },
          "metadata": {}
        }
      ]
    },
    {
      "cell_type": "markdown",
      "source": [
        "##**IMPORTANT!!!: The loss should be reduced to around 112, the predicted line should loks like the provided figure, if not, please check the code carefully, I set a small bug...**\n",
        "Hints: Do the w and b values look normal?"
      ],
      "metadata": {
        "id": "ihGSztw451Om"
      }
    }
  ]
}